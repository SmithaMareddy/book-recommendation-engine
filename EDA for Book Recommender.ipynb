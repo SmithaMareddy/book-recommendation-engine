{
 "cells": [
  {
   "cell_type": "code",
   "execution_count": 10,
   "id": "5242cc88",
   "metadata": {},
   "outputs": [],
   "source": [
    "import pandas as pd\n",
    "\n",
    "# Load CSV files into DataFrames\n",
    "books_df = pd.read_csv('Books.csv', low_memory=False)\n",
    "ratings_df = pd.read_csv('ratings.csv')\n",
    "users_df = pd.read_csv('Users.csv')"
   ]
  },
  {
   "cell_type": "code",
   "execution_count": 11,
   "id": "471ffea5",
   "metadata": {},
   "outputs": [
    {
     "name": "stdout",
     "output_type": "stream",
     "text": [
      "Books DataFrame shape: (271360, 8)\n",
      "Ratings DataFrame shape: (1149780, 3)\n",
      "Users DataFrame shape: (278858, 3)\n",
      "Books columns: Index(['ISBN', 'Book-Title', 'Book-Author', 'Year-Of-Publication', 'Publisher',\n",
      "       'Image-URL-S', 'Image-URL-M', 'Image-URL-L'],\n",
      "      dtype='object')\n",
      "Ratings columns: Index(['User-ID', 'ISBN', 'Book-Rating'], dtype='object')\n",
      "Users columns: Index(['User-ID', 'Location', 'Age'], dtype='object')\n",
      "Books DataFrame head:\n",
      "          ISBN                                         Book-Title  \\\n",
      "0  0195153448                                Classical Mythology   \n",
      "1  0002005018                                       Clara Callan   \n",
      "2  0060973129                               Decision in Normandy   \n",
      "3  0374157065  Flu: The Story of the Great Influenza Pandemic...   \n",
      "4  0393045218                             The Mummies of Urumchi   \n",
      "\n",
      "            Book-Author Year-Of-Publication                   Publisher  \\\n",
      "0    Mark P. O. Morford                2002     Oxford University Press   \n",
      "1  Richard Bruce Wright                2001       HarperFlamingo Canada   \n",
      "2          Carlo D'Este                1991             HarperPerennial   \n",
      "3      Gina Bari Kolata                1999        Farrar Straus Giroux   \n",
      "4       E. J. W. Barber                1999  W. W. Norton &amp; Company   \n",
      "\n",
      "                                         Image-URL-S  \\\n",
      "0  http://images.amazon.com/images/P/0195153448.0...   \n",
      "1  http://images.amazon.com/images/P/0002005018.0...   \n",
      "2  http://images.amazon.com/images/P/0060973129.0...   \n",
      "3  http://images.amazon.com/images/P/0374157065.0...   \n",
      "4  http://images.amazon.com/images/P/0393045218.0...   \n",
      "\n",
      "                                         Image-URL-M  \\\n",
      "0  http://images.amazon.com/images/P/0195153448.0...   \n",
      "1  http://images.amazon.com/images/P/0002005018.0...   \n",
      "2  http://images.amazon.com/images/P/0060973129.0...   \n",
      "3  http://images.amazon.com/images/P/0374157065.0...   \n",
      "4  http://images.amazon.com/images/P/0393045218.0...   \n",
      "\n",
      "                                         Image-URL-L  \n",
      "0  http://images.amazon.com/images/P/0195153448.0...  \n",
      "1  http://images.amazon.com/images/P/0002005018.0...  \n",
      "2  http://images.amazon.com/images/P/0060973129.0...  \n",
      "3  http://images.amazon.com/images/P/0374157065.0...  \n",
      "4  http://images.amazon.com/images/P/0393045218.0...  \n",
      "Ratings DataFrame head:\n",
      "    User-ID        ISBN  Book-Rating\n",
      "0   276725  034545104X            0\n",
      "1   276726  0155061224            5\n",
      "2   276727  0446520802            0\n",
      "3   276729  052165615X            3\n",
      "4   276729  0521795028            6\n",
      "Users DataFrame head:\n",
      "    User-ID                            Location   Age\n",
      "0        1                  nyc, new york, usa   NaN\n",
      "1        2           stockton, california, usa  18.0\n",
      "2        3     moscow, yukon territory, russia   NaN\n",
      "3        4           porto, v.n.gaia, portugal  17.0\n",
      "4        5  farnborough, hants, united kingdom   NaN\n"
     ]
    }
   ],
   "source": [
    "# Check dimensions of each DataFrame\n",
    "print(\"Books DataFrame shape:\", books_df.shape)\n",
    "print(\"Ratings DataFrame shape:\", ratings_df.shape)\n",
    "print(\"Users DataFrame shape:\", users_df.shape)\n",
    "\n",
    "# Print column names\n",
    "print(\"Books columns:\", books_df.columns)\n",
    "print(\"Ratings columns:\", ratings_df.columns)\n",
    "print(\"Users columns:\", users_df.columns)\n",
    "\n",
    "# Display first few rows of each DataFrame\n",
    "print(\"Books DataFrame head:\\n\", books_df.head())\n",
    "print(\"Ratings DataFrame head:\\n\", ratings_df.head())\n",
    "print(\"Users DataFrame head:\\n\", users_df.head())"
   ]
  },
  {
   "cell_type": "code",
   "execution_count": 12,
   "id": "eaaf8f93",
   "metadata": {},
   "outputs": [
    {
     "name": "stdout",
     "output_type": "stream",
     "text": [
      "Missing values in Books DataFrame:\n",
      " ISBN                   0\n",
      "Book-Title             0\n",
      "Book-Author            1\n",
      "Year-Of-Publication    0\n",
      "Publisher              2\n",
      "Image-URL-S            0\n",
      "Image-URL-M            0\n",
      "Image-URL-L            3\n",
      "dtype: int64\n",
      "Missing values in Ratings DataFrame:\n",
      " User-ID        0\n",
      "ISBN           0\n",
      "Book-Rating    0\n",
      "dtype: int64\n",
      "Missing values in Users DataFrame:\n",
      " User-ID          0\n",
      "Location         0\n",
      "Age         110762\n",
      "dtype: int64\n"
     ]
    }
   ],
   "source": [
    "# Check for missing values\n",
    "print(\"Missing values in Books DataFrame:\\n\", books_df.isnull().sum())\n",
    "print(\"Missing values in Ratings DataFrame:\\n\", ratings_df.isnull().sum())\n",
    "print(\"Missing values in Users DataFrame:\\n\", users_df.isnull().sum())"
   ]
  },
  {
   "cell_type": "code",
   "execution_count": 13,
   "id": "ad22ce6b",
   "metadata": {},
   "outputs": [],
   "source": [
    "# Handle missing values in Books DataFrame\n",
    "books_df['Book-Author'].fillna(books_df['Book-Author'].mode()[0], inplace=True)\n",
    "books_df['Publisher'].fillna(books_df['Publisher'].mode()[0], inplace=True)\n",
    "books_df.dropna(subset=['Image-URL-L'], inplace=True)  # Drop rows with missing Image-URL-L values\n",
    "\n",
    "# Handle missing values in Users DataFrame\n",
    "# Impute missing values in Age column with median age\n",
    "median_age = users_df['Age'].median()\n",
    "users_df['Age'].fillna(median_age, inplace=True)"
   ]
  },
  {
   "cell_type": "code",
   "execution_count": 5,
   "id": "d30acd54",
   "metadata": {},
   "outputs": [
    {
     "name": "stdout",
     "output_type": "stream",
     "text": [
      "Missing values in Books DataFrame:\n",
      " ISBN                   0\n",
      "Book-Title             0\n",
      "Book-Author            0\n",
      "Year-Of-Publication    0\n",
      "Publisher              0\n",
      "Image-URL-S            0\n",
      "Image-URL-M            0\n",
      "Image-URL-L            0\n",
      "dtype: int64\n",
      "Missing values in Ratings DataFrame:\n",
      " 276725        0\n",
      "034545104X    0\n",
      "0             0\n",
      "dtype: int64\n",
      "Missing values in Users DataFrame:\n",
      " User-ID     0\n",
      "Location    0\n",
      "Age         0\n",
      "dtype: int64\n"
     ]
    }
   ],
   "source": [
    "# validate againfor missing values\n",
    "print(\"Missing values in Books DataFrame:\\n\", books_df.isnull().sum())\n",
    "print(\"Missing values in Ratings DataFrame:\\n\", ratings_df.isnull().sum())\n",
    "print(\"Missing values in Users DataFrame:\\n\", users_df.isnull().sum())"
   ]
  },
  {
   "cell_type": "code",
   "execution_count": 14,
   "id": "f1b61c68",
   "metadata": {},
   "outputs": [
    {
     "data": {
      "image/png": "[encoded data removed]",
      "text/plain": [
       "<Figure size 432x288 with 1 Axes>"
      ]
     },
     "metadata": {
      "needs_background": "light"
     },
     "output_type": "display_data"
    }
   ],
   "source": [
    "# Import libraries\n",
    "import seaborn as sns\n",
    "import matplotlib.pyplot as plt  # Add this line to import matplotlib.pyplot\n",
    "\n",
    "# Example of creating a bar plot for the 'Year-Of-Publication' column\n",
    "sns.countplot(data=books_df, x='Year-Of-Publication')\n",
    "plt.xticks(rotation=45)\n",
    "plt.show()"
   ]
  },
  {
   "cell_type": "code",
   "execution_count": 15,
   "id": "f77f0b3c",
   "metadata": {},
   "outputs": [
    {
     "data": {
      "image/png": "[encoded data removed]",
      "text/plain": [
       "<Figure size 432x288 with 1 Axes>"
      ]
     },
     "metadata": {
      "needs_background": "light"
     },
     "output_type": "display_data"
    }
   ],
   "source": [
    "# Example of creating a box plot for the 'Book-Rating' column in the Ratings DataFrame\n",
    "sns.boxplot(data=ratings_df, x='Book-Rating')\n",
    "plt.show()"
   ]
  },
  {
   "cell_type": "code",
   "execution_count": 16,
   "id": "e304ffc7",
   "metadata": {},
   "outputs": [
    {
     "name": "stdout",
     "output_type": "stream",
     "text": [
      "Correlation matrix for Ratings DataFrame:\n",
      "               User-ID  Book-Rating\n",
      "User-ID      1.000000    -0.046944\n",
      "Book-Rating -0.046944     1.000000\n"
     ]
    },
    {
     "data": {
      "image/png": "[encoded data removed]",
      "text/plain": [
       "<Figure size 432x288 with 2 Axes>"
      ]
     },
     "metadata": {
      "needs_background": "light"
     },
     "output_type": "display_data"
    }
   ],
   "source": [
    "# Correlation matrix for numerical features\n",
    "print(\"Correlation matrix for Ratings DataFrame:\\n\", ratings_df.corr())\n",
    "\n",
    "# Visualization of correlations using heatmap\n",
    "import seaborn as sns\n",
    "sns.heatmap(ratings_df.corr(), annot=True, cmap='coolwarm')\n",
    "plt.show()"
   ]
  },
  {
   "cell_type": "code",
   "execution_count": 17,
   "id": "f33808dc",
   "metadata": {},
   "outputs": [],
   "source": [
    "# Merge DataFrames based on common keys (ISBN and User-ID)\n",
    "merged_df = pd.merge(ratings_df, books_df, on='ISBN')\n",
    "merged_df = pd.merge(merged_df, users_df, on='User-ID')"
   ]
  },
  {
   "cell_type": "code",
   "execution_count": 18,
   "id": "52a98641",
   "metadata": {},
   "outputs": [],
   "source": [
    "#feature engineering: Creating a feature for total ratings per user\n",
    "user_rating_counts = merged_df.groupby('User-ID')['Book-Rating'].count().reset_index()\n",
    "user_rating_counts.columns = ['User-ID', 'Total-Ratings']\n",
    "merged_df = pd.merge(merged_df, user_rating_counts, on='User-ID', how='left')"
   ]
  },
  {
   "cell_type": "code",
   "execution_count": 19,
   "id": "2dd94ba4",
   "metadata": {},
   "outputs": [],
   "source": [
    "from sklearn.model_selection import train_test_split\n",
    "\n",
    "# Split the dataset into training and testing sets (e.g., 80% train, 20% test)\n",
    "train_df, test_df = train_test_split(merged_df, test_size=0.2, random_state=42)"
   ]
  },
  {
   "cell_type": "code",
   "execution_count": 20,
   "id": "1d4be646",
   "metadata": {},
   "outputs": [],
   "source": [
    "# Import necessary libraries\n",
    "from surprise import Reader, Dataset, SVD\n",
    "from surprise.model_selection import train_test_split\n",
    "from surprise import accuracy"
   ]
  },
  {
   "cell_type": "code",
   "execution_count": 21,
   "id": "4e031182",
   "metadata": {},
   "outputs": [],
   "source": [
    "# Step 1: Load and prepare the data\n",
    "\n",
    "# Define a Reader object specifying the rating scale\n",
    "reader = Reader(rating_scale=(1, 10))\n",
    "\n",
    "# Load data from DataFrame (train_df) into a Surprise Dataset object\n",
    "data = Dataset.load_from_df(train_df[['User-ID', 'ISBN', 'Book-Rating']], reader)\n",
    "\n",
    "# Split the data into train and test sets (80% train, 20% test)\n",
    "trainset, testset = train_test_split(data, test_size=0.2, random_state=42)"
   ]
  },
  {
   "cell_type": "code",
   "execution_count": 22,
   "id": "b578d2aa",
   "metadata": {
    "scrolled": true
   },
   "outputs": [
    {
     "data": {
      "text/plain": [
       "<surprise.prediction_algorithms.matrix_factorization.SVD at 0x7fb5cb724550>"
      ]
     },
     "execution_count": 22,
     "metadata": {},
     "output_type": "execute_result"
    }
   ],
   "source": [
    "# Step 2: Initialize and train the recommendation model\n",
    "\n",
    "# Initialize the Singular Value Decomposition (SVD) algorithm\n",
    "model = SVD()\n",
    "\n",
    "# Train the model on the training set\n",
    "model.fit(trainset)"
   ]
  },
  {
   "cell_type": "code",
   "execution_count": 23,
   "id": "b14c572e",
   "metadata": {},
   "outputs": [],
   "source": [
    "# Step 3: Make predictions on the test set\n",
    "\n",
    "# Get predictions for the test set\n",
    "predictions = model.test(testset)"
   ]
  },
  {
   "cell_type": "code",
   "execution_count": 24,
   "id": "61a92941",
   "metadata": {},
   "outputs": [
    {
     "name": "stdout",
     "output_type": "stream",
     "text": [
      "RMSE: 3.4945\n",
      "RMSE: 3.494544006136877\n"
     ]
    }
   ],
   "source": [
    "# Step 4: Evaluate the model\n",
    "\n",
    "# Calculate Root Mean Squared Error (RMSE) to evaluate model accuracy\n",
    "rmse = accuracy.rmse(predictions)\n",
    "print(\"RMSE:\", rmse)"
   ]
  },
  {
   "cell_type": "code",
   "execution_count": 27,
   "id": "ba10795b",
   "metadata": {},
   "outputs": [
    {
     "name": "stdout",
     "output_type": "stream",
     "text": [
      "MAE:  2.9301\n",
      "MAE: 2.9300751519255663\n"
     ]
    }
   ],
   "source": [
    "# Import the mae function from the accuracy module\n",
    "from surprise.accuracy import mae\n",
    "\n",
    "# Calculate Mean Absolute Error (MAE)\n",
    "mae_score = mae(predictions)\n",
    "print(\"MAE:\", mae_score)"
   ]
  }
 ],
 "metadata": {
  "kernelspec": {
   "display_name": "Python 3 (ipykernel)",
   "language": "python",
   "name": "python3"
  },
  "language_info": {
   "codemirror_mode": {
    "name": "ipython",
    "version": 3
   },
   "file_extension": ".py",
   "mimetype": "text/x-python",
   "name": "python",
   "nbconvert_exporter": "python",
   "pygments_lexer": "ipython3",
   "version": "3.9.12"
  }
 },
 "nbformat": 4,
 "nbformat_minor": 5
}
